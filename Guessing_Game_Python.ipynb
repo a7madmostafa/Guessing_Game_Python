{
 "cells": [
  {
   "cell_type": "markdown",
   "metadata": {},
   "source": [
    "## Guessing game\n",
    "\n",
    "a random number is chosen by the machine in range (1, 100) and you have 10 tries to guess the number.\n",
    "* If you are closer to that number, I will till you 'you are closer to target'\n",
    "* If you are farther to that number, I will till you 'you are farther to target'"
   ]
  },
  {
   "cell_type": "code",
   "execution_count": null,
   "metadata": {},
   "outputs": [],
   "source": [
    "from random import randint\n",
    "\n",
    "Actual = randint(1,100)\n",
    "\n",
    "guesses= [] \n",
    "i=0\n",
    "\n",
    "while(True):\n",
    "    Guess= int(input('Guess the number:   '))\n",
    "    guesses.append(Guess)\n",
    "    \n",
    "    if Guess < 1 or Guess > 100 :\n",
    "        print('Out of Bounds')\n",
    "        continue\n",
    "        \n",
    "    elif len(guesses) == 10:\n",
    "        print(' You tried 10 times and you could not guess the number \\n Game Over!')\n",
    "        print('Actual Number is: ',Actual)\n",
    "        break\n",
    "        \n",
    "    elif Guess == Actual :\n",
    "        print (\"Wow, you've guessed Correctly this time\")  \n",
    "        print('You have guessed it in ' + str(len(guesses)) + ' times')\n",
    "        break\n",
    "        \n",
    "    elif abs(Guess - Actual) <= abs(guesses[i-1] - Actual) :\n",
    "        print(' you are closer to target ') \n",
    "        \n",
    "    else:  \n",
    "        print(' you are farther from the target ')\n",
    "        \n",
    "    i+=1"
   ]
  }
 ],
 "metadata": {
  "kernelspec": {
   "display_name": "Python 3",
   "language": "python",
   "name": "python3"
  },
  "language_info": {
   "codemirror_mode": {
    "name": "ipython",
    "version": 3
   },
   "file_extension": ".py",
   "mimetype": "text/x-python",
   "name": "python",
   "nbconvert_exporter": "python",
   "pygments_lexer": "ipython3",
   "version": "3.7.4"
  }
 },
 "nbformat": 4,
 "nbformat_minor": 2
}
